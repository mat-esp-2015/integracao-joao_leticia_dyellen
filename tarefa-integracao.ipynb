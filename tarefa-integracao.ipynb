{
 "cells": [
  {
   "cell_type": "markdown",
   "metadata": {},
   "source": [
    "**Course website**: http://www.leouieda.com/matematica-especial\n",
    "\n",
    "**Note**: This notebook is part of the course \"Matemática Especial I\" of the [Universidade do Estado do Rio de Janeiro](http://www.uerj.br/). All content can be freely used and adapted under the terms of the \n",
    "[Creative Commons Attribution 4.0 International License](http://creativecommons.org/licenses/by/4.0/).\n",
    "\n",
    "![Creative Commons License](https://i.creativecommons.org/l/by/4.0/88x31.png)"
   ]
  },
  {
   "cell_type": "markdown",
   "metadata": {},
   "source": [
    "# Integração Numérica"
   ]
  },
  {
   "cell_type": "markdown",
   "metadata": {},
   "source": [
    "## Imports\n",
    "\n",
    "Coloque **todos** os `import` na célula abaixo. Não se esqueça do `%matplotlib inline` para que os gráficos apareçam no notebook."
   ]
  },
  {
   "cell_type": "code",
   "execution_count": 3,
   "metadata": {
    "collapsed": true
   },
   "outputs": [],
   "source": [
    "# Dessa vez vamos precisar da biblioteca matemática \"math\"\n",
    "# Ela define funções como sin, cos, tan, exp e constantes como pi\n",
    "import math"
   ]
  },
  {
   "cell_type": "markdown",
   "metadata": {},
   "source": [
    "## Regra dos retângulos\n",
    "\n",
    "O jeito mais simples de integração numérica é a regra dos retângulos. Nela, aproximamos a integral pela soma das áreas de retângulos. Cada retângulo se encontra abaixo de um dos pontos dos dados. A largura do retângulo é o espaçamento entre os dados $\\Delta$. A altura do retângulo é o valor do dado naquela posição $d_i$.\n",
    "\n",
    "Se tivermos nossos dados em um vetor de dados $\\bar{d}$ (**nota**: vetores serão representados com uma barra em cima):\n",
    "\n",
    "$$\n",
    "\\bar{d} = \\left[ d_1 ~ d_2 ~ d_3 ~ \\ldots ~ d_N \\right],\n",
    "$$\n",
    "\n",
    "a integral poderá ser aproximada pela soma das áreas dos retângulos:\n",
    "\n",
    "$$\n",
    "A = \\sum\\limits_{i=1}^{N} \\Delta d_i\n",
    "$$"
   ]
  },
  {
   "cell_type": "markdown",
   "metadata": {},
   "source": [
    "### Algoritmo\n",
    "\n",
    "Utilize a célula vazia abaixo (tipo Markdown) para colocar uma descrição do algoritmo em português (não em código). Não se esqueça de relacionar os passos do algoritmo com as fórmulas matemáticas do método.\n",
    "\n",
    "**Dicas**:\n",
    "\n",
    "* Help sobre Markdown: https://help.github.com/articles/markdown-basics/\n",
    "* Como utilizar fórmulas matemáticas: https://www.sharelatex.com/learn/Mathematical_expressions\n"
   ]
  },
  {
   "cell_type": "markdown",
   "metadata": {},
   "source": [
    "A área dos retângulos é igual ao somatório de i=1 até N da multiplicação do intervalo entre os dados (Δ) e a altura do retângulo na posição i (di)."
   ]
  },
  {
   "cell_type": "markdown",
   "metadata": {},
   "source": [
    "### Dados para teste\n",
    "\n",
    "Vamos utilizar dados gerados a partir de uma função $d(t) = \\cos(t)$ para testar o método de integração. A vantagem do cosseno é que sabemos quanto deve ser a integral:\n",
    "\n",
    "$$\n",
    "\\int\\limits_a^b \\cos(t) dt = \\sin(b) - \\sin(a)\n",
    "$$\n",
    "\n",
    "O código abaixo gera duas listas: uma com os tempos variando entre os limites de integração; outra com os valores correspondentes do cosseno."
   ]
  },
  {
   "cell_type": "code",
   "execution_count": 7,
   "metadata": {
    "collapsed": false
   },
   "outputs": [
    {
     "name": "stdout",
     "output_type": "stream",
     "text": [
      "Espaçamento entre os dados: 0.0320570678937734\n",
      "[0.0, 0.0320570678937734, 0.0641141357875468, 0.09617120368132019, 0.1282282715750936, 0.16028533946886697, 0.19234240736264038, 0.2243994752564138, 0.2564565431501872, 0.28851361104396056, 0.32057067893773394, 0.3526277468315074, 0.38468481472528077, 0.41674188261905415, 0.4487989505128276, 0.48085601840660097, 0.5129130863003744, 0.5449701541941477, 0.5770272220879211, 0.6090842899816945, 0.6411413578754679, 0.6731984257692414, 0.7052554936630148, 0.7373125615567881, 0.7693696294505615, 0.8014266973443349, 0.8334837652381083, 0.8655408331318817, 0.8975979010256552, 0.9296549689194286, 0.9617120368132019, 0.9937691047069753, 1.0258261726007487, 1.0578832404945222, 1.0899403083882955, 1.121997376282069, 1.1540544441758422, 1.1861115120696157, 1.218168579963389, 1.2502256478571625, 1.2822827157509358, 1.3143397836447093, 1.3463968515384828, 1.378453919432256, 1.4105109873260295, 1.4425680552198028, 1.4746251231135763, 1.5066821910073496, 1.538739258901123, 1.5707963267948966]\n",
      "[1.0, 0.9994862162006879, 0.9979453927503363, 0.9953791129491982, 0.9917900138232462, 0.9871817834144502, 0.9815591569910653, 0.9749279121818236, 0.9672948630390295, 0.9586678530366606, 0.9490557470106686, 0.9384684220497604, 0.9269167573460217, 0.9144126230158125, 0.9009688679024191, 0.8865993063730001, 0.8713187041233894, 0.8551427630053462, 0.8380881048918407, 0.820172254596956, 0.8014136218679567, 0.7818314824680298, 0.7614459583691344, 0.7402779970753156, 0.7183493500977276, 0.6956825506034865, 0.6723008902613169, 0.6482283953077885, 0.6234898018587336, 0.598110530491216, 0.5721166601221697, 0.5455349012105487, 0.5183925683105252, 0.4907175520039379, 0.4625382902408354, 0.4338837391175582, 0.404783343122394, 0.3752670048793742, 0.3453650544213078, 0.31510821802362077, 0.28452758663103267, 0.2536545839095075, 0.22252093395631445, 0.19115862870137248, 0.15959989503337932, 0.12787716168450622, 0.09602302590768189, 0.06407021998071318, 0.03205157757165533, 6.123233995736766e-17]\n"
     ]
    }
   ],
   "source": [
    "# inicio e fim são os intervalos de integração\n",
    "inicio = 0\n",
    "fim = math.pi/2 # Funções trigonométricas utilizam ângulos em radianos!\n",
    "N = 50\n",
    "# Precisamos saber o intervalo entre cada ponto dos dados\n",
    "# A divisão é por N - 1 pois existem N - 1 intervalos entre N pontos\n",
    "intervalo = (fim - inicio)/(N - 1)\n",
    "print(\"Espaçamento entre os dados:\", intervalo)\n",
    "tempos = []\n",
    "dados = []\n",
    "for i in range(N):\n",
    "    t = inicio + i*intervalo\n",
    "    tempos.append(t)\n",
    "    dados.append(math.cos(t))\n",
    "\n",
    "print(tempos)\n",
    "print(dados)"
   ]
  },
  {
   "cell_type": "markdown",
   "metadata": {},
   "source": [
    "Utilize a célula abaixo para gerar um gráfico de `dados` por `tempos`."
   ]
  },
  {
   "cell_type": "code",
   "execution_count": 8,
   "metadata": {
    "collapsed": false
   },
   "outputs": [
    {
     "data": {
      "image/png": "[encoded data removed]",
      "text/plain": [
       "<matplotlib.figure.Figure at 0x50732e8>"
      ]
     },
     "metadata": {},
     "output_type": "display_data"
    }
   ],
   "source": [
    "# importamos a biblioteca do matplot e a ativamos\n",
    "import matplotlib.pyplot as plt\n",
    "%matplotlib inline \n",
    "plt.figure() # criamos uma figura\n",
    "plt.plot(tempos, dados, \"ok\", label = \"dados\") # definimos os eixos do grafico, o marcador e a legenda\n",
    "plt.xlabel(\"tempos\") # nomeamos o eixo x\n",
    "plt.ylabel(\"dados\") # nomeamos o eixo y\n",
    "legend = plt.legend(loc = 'lower right', fontsize = 'x-large') # definimos a localização da legenda e o tamanho da fonte"
   ]
  },
  {
   "cell_type": "markdown",
   "metadata": {},
   "source": [
    "### Implementação\n",
    "\n",
    "Implemente a regra dos retângulos para integrar os dados gerados acima. Coloque seu cógido na célula abaixo."
   ]
  },
  {
   "cell_type": "code",
   "execution_count": 9,
   "metadata": {
    "collapsed": false
   },
   "outputs": [
    {
     "name": "stdout",
     "output_type": "stream",
     "text": [
      "1.0159428945132496\n"
     ]
    }
   ],
   "source": [
    "# Fizemos a soma de todos os valores de dados\n",
    "soma = 0 \n",
    "for dado in dados:\n",
    "    soma = soma + dado\n",
    "# Calculamos a integral pelo metodo dos retangulos e imprimimos o resultado\n",
    "integral = soma*intervalo\n",
    "print(integral)"
   ]
  },
  {
   "cell_type": "markdown",
   "metadata": {},
   "source": [
    "Nas células abaixo calcule e imprima:\n",
    "\n",
    "1. A solução analítica (verdadeira) para a integral\n",
    "2. O erro cometido $E = \\left|res_{true} - res_{calc}\\right|$\n",
    "\n",
    "Dica: a função `abs` calcula o valor absoluto de um número."
   ]
  },
  {
   "cell_type": "code",
   "execution_count": 5,
   "metadata": {
    "collapsed": false,
    "scrolled": true
   },
   "outputs": [
    {
     "name": "stdout",
     "output_type": "stream",
     "text": [
      "1.0\n",
      "-0.015942894513249595\n"
     ]
    }
   ],
   "source": [
    "# Como a integral de a até b de cos(t)dt é igual a sin(b) - sin(a), calculamos a solução analítica para a integral e a imprimimos\n",
    "int_verdadeira = math.sin(math.pi/2) - math.sin(0)\n",
    "print(int_verdadeira)\n",
    "# Calculamos o erro cometido e o imprimimos\n",
    "erro = abs(int_verdadeira - integral)\n",
    "print(erro)"
   ]
  },
  {
   "cell_type": "markdown",
   "metadata": {},
   "source": [
    "**Responda na célula abaixo:** Por que o erro não é zero e quais são os fatores que influenciam o erro?"
   ]
  },
  {
   "cell_type": "markdown",
   "metadata": {},
   "source": [
    "Porque a regra do retângulo é uma aproximação da integral verdadeira, e não igual a ela, e por isso o resultado não é zero. Quanto menor o intervalo entre os dados, ou seja, quanto maior o número de dados num mesmo período, menor será o erro pois maior será o número de retângulos e de áreas calculadas, e assim menor serão as áreas dos retângulos sobrando e faltando em relação à área abaixo da curva."
   ]
  },
  {
   "cell_type": "markdown",
   "metadata": {},
   "source": [
    "### Resultado esperado\n",
    "\n",
    "No caso acima estamos integrando o cosseno de 0 a $\\pi/2$, então o valor esperado da integral é 1. Seu resultado não será exatamente 1 mas deve estar entre 0.9 e 1.1."
   ]
  },
  {
   "cell_type": "markdown",
   "metadata": {},
   "source": [
    "## Regra dos trapézios\n",
    "\n",
    "A regra dos trapézios é parecida com a regra dos retângulos. Mas utilizaremos a área de um trapézio ao invés da área de um retângulo. O trapézio será definido com base em dois pontos adjacentes nos dados ($d_i$ e $d_{i+1}$, por exemplo).\n",
    "\n",
    "$$\n",
    "A = \\sum\\limits_{i=1}^{N - 1} \\Delta \\frac{d_i + d_{i+1}}{2}\n",
    "$$"
   ]
  },
  {
   "cell_type": "markdown",
   "metadata": {},
   "source": [
    "### Algoritmo\n",
    "\n",
    "Descreva abaixo o algoritmo utilizado (em português) para fazer a integração numérica utilizando a regra dos trapézios."
   ]
  },
  {
   "cell_type": "markdown",
   "metadata": {},
   "source": [
    "A área dos trapézios é igual ao somatório de i=1 até N-1 da multiplicação do intervalo entre os dados (Δ) pela soma da altura de dois pontos adjacentes (di + di+1) dividido por 2."
   ]
  },
  {
   "cell_type": "markdown",
   "metadata": {},
   "source": [
    "### Implementação\n",
    "\n",
    "Vamos utilizar os mesmo dados utilizados na regra dos retângulos (na dúvida, rode novamente a célula que gera os dados). Abaixo, escreva e rode o código que faz a integração numérica com a regra dos trapézios. "
   ]
  },
  {
   "cell_type": "code",
   "execution_count": 10,
   "metadata": {
    "collapsed": false
   },
   "outputs": [
    {
     "name": "stdout",
     "output_type": "stream",
     "text": [
      "0.9999143605663638\n"
     ]
    }
   ],
   "source": [
    "# Calculamos a soma de todos os di com di+1 \n",
    "soma = 0\n",
    "for i in range(0, N - 1):\n",
    "    soma = soma + dados[i] + dados[i+1]    \n",
    "# Calculamos a integral pelo metodo dos trapezios e imprimimos o resultado\n",
    "int_trapezios = (soma*intervalo)/2\n",
    "print(int_trapezios)"
   ]
  },
  {
   "cell_type": "code",
   "execution_count": null,
   "metadata": {
    "collapsed": false
   },
   "outputs": [],
   "source": []
  },
  {
   "cell_type": "markdown",
   "metadata": {},
   "source": [
    "Calcule e imprima também a solução analíca e o erro cometido."
   ]
  },
  {
   "cell_type": "code",
   "execution_count": 11,
   "metadata": {
    "collapsed": false
   },
   "outputs": [
    {
     "name": "stdout",
     "output_type": "stream",
     "text": [
      "1.0\n",
      "8.563943363615323e-05\n"
     ]
    }
   ],
   "source": [
    "# Como a integral de a até b de cos(t)dt é igual a sin(b) - sin(a), calculamos a solução analítica para a integral e a imprimimos\n",
    "int_verdadeira = math.sin(math.pi/2) - math.sin(0)\n",
    "print(int_verdadeira)\n",
    "# Calculamos o erro cometido e o imprimimos\n",
    "erro2 = abs(int_verdadeira - int_trapezios)\n",
    "print(erro2)"
   ]
  },
  {
   "cell_type": "markdown",
   "metadata": {},
   "source": [
    "**Responda na célula abaixo:** O erro é maior ou menos que para a regra dos retângulos? Por que? Você esperava isso?"
   ]
  },
  {
   "cell_type": "markdown",
   "metadata": {},
   "source": [
    "O erro é 3 ordens de grandeza menor, pois a regra dos trapézios dá uma aproximação melhor já que não há áreas sobrando acima da curva e as áreas faltando abaixo da curva são muito menores, se aproximando mais do traçado original da curva. Sim, pelos motivos descritos anteriormente."
   ]
  },
  {
   "cell_type": "markdown",
   "metadata": {},
   "source": [
    "### Resultado esperado\n",
    "\n",
    "Novamente, o valos esperado é 1 mas seu resultado não será exatamente 1 (mas deve estar entre 0.9 e 1.1)."
   ]
  },
  {
   "cell_type": "markdown",
   "metadata": {},
   "source": [
    "## Comparação dos dois métodos\n",
    "\n",
    "Vamos comparar o erro de ambos métodos. Uma comparação muito utilizada em métodos numéricos em geral é como o erro varia com o número de dados (ou pontos) utilizados.\n",
    "\n",
    "Nas células abaixo, calcule o erro da integração numérica para diferentes valores de `N`. Os valores de N deverão variar de 10 a 1000 de 10 em 10. Mantenha os intervalos de integração entre $0$ e $\\pi/2$. Faça esse cálculo para os dois métodos: retângulos e trapézios.\n",
    "\n",
    "Ao final, faça um gráfico do erro pelos valores de `N`. O gráfico deverá ter duas curvas, uma para cada método. O eixo y (erros) deverá estar em escala logarítmica.\n",
    "\n",
    "**Dicas**: \n",
    "\n",
    "* Gere uma lista dos valores de `N`.\n",
    "* Para colocar o eixo y em escala log: `plt.yscale('log')`"
   ]
  },
  {
   "cell_type": "code",
   "execution_count": 15,
   "metadata": {
    "collapsed": false
   },
   "outputs": [
    {
     "name": "stdout",
     "output_type": "stream",
     "text": [
      "Erro dos Retângulos [0.08472669439144243, 0.04076710504024694, 0.026838192538866545, 0.02000322554546985, 0.015942894513249595, 0.013252764278358642, 0.01133939398026107, 0.009908802562918373, 0.008798739896037189, 0.007912335532624493, 0.007188181326510001, 0.006585464592107515, 0.006076001791466945, 0.005639704338090912, 0.005261866997297915, 0.004931477824744457, 0.00464012718601392, 0.004381281927089864, 0.004149789644384727, 0.003941532222524913, 0.0037531787092357494, 0.0035820058140871858, 0.003425765383925139, 0.0032825851113538196, 0.0031508931435171306, 0.00302936013827515, 0.002916854231957311, 0.002812405682364627, 0.0027151788455872516, 0.002624449771287951, 0.0025395881446874657, 0.0024600426222463057, 0.002385328839545453, 0.0023150195400298834, 0.002248736399519391, 0.002186143216111658, 0.0021269402066179666, 0.002070859205313358, 0.002017659602748134, 0.0019671248948440745, 0.001919059737929718, 0.0018732874252089804, 0.001829647715961169, 0.0017879949612613633, 0.0017481964800041272, 0.0017101311470930636, 0.0016736881621590705, 0.001638765972393319, 0.0016052713275171993, 0.0015731184482929983, 0.0015422282929991038, 0.001512527908693384, 0.0014839498559844344, 0.0014564316978245007, 0.001429915544138849, 0.0014043476453098336, 0.0013796780285129095, 0.0013558601717069685, 0.0013328507108496535, 0.0013106091763768202, 0.001289097755690749, 0.0012682810786124321, 0.001248126023331686, 0.0012286015405329476, 0.0012096784937973837, 0.001191329514533157, 0.00117352886988642, 0.0011562523423513937, 0.001139477119834087, 0.0011231816951644547, 0.0011073457741077597, 0.0010919501910349183, 0.0010769768315612716, 0.0010624085614296952, 0.0010482291611084715, 0.0010344232655581376, 0.0010209763086852508, 0.0010078744720840582, 0.000995104637673272, 0.0009826543438724578, 0.0009705117450597989, 0.0009586655739541872, 0.0009471051067757585, 0.0009358201308382608, 0.0009248009144748881, 0.000914038179040455, 0.0009035230728580146, 0.000893247146939613, 0.000883202332331301, 0.000873380919010236, 0.0008637755361164956, 0.0008543791335293704, 0.0008451849645925158, 0.0008361865699726412, 0.0008273777625134038, 0.0008187526130580824, 0.0008103054371442209, 0.0008020307824871953, 0.0007939234172813503, 0.0007859783191270786]\n",
      "Erro dos Trapézios [0.0025397682082739514, 0.0005696404017235812, 0.00024450275070098115, 0.00013518890061958722, 8.563943363615323e-05, 5.906899956464873e-05, 4.318809796322043e-05, 3.2946340847384015e-05, 2.5958569102924045e-05, 2.097924916821814e-05, 1.730641107877684e-05, 1.4519974258386803e-05, 1.2356064327923022e-05, 1.0642161172191855e-05, 9.261616108480197e-06, 8.133265805509993e-06, 7.199224621223799e-06, 6.417309768913526e-06, 5.7561936984695805e-06, 5.19221665795655e-06, 4.707240033874349e-06, 4.287169464101126e-06, 3.920919118161059e-06, 3.5996727369980164e-06, 3.3163480390729916e-06, 3.065203029617436e-06, 2.8415427526518044e-06, 2.64149827100546e-06, 2.4618582105118136e-06, 2.2999390721922808e-06, 2.1534844303339185e-06, 2.0205858975996804e-06, 1.8996206281318706e-06, 1.7892015556908447e-06, 1.6881374336197297e-06, 1.5954005947449446e-06, 1.5101006933804229e-06, 1.4314632825751517e-06, 1.3588121562380095e-06, 1.291554773241721e-06, 1.2291701320110704e-06, 1.171198651950256e-06, 1.1172336837894647e-06, 1.0669143597485942e-06, 1.0199195472626599e-06, 9.759627047634112e-07, 9.347875190579558e-07, 8.961641337901227e-07, 8.59885970094787e-07, 8.257669369404752e-07, 7.93639020613135e-07, 7.633502623338728e-07, 7.347629129572653e-07, 7.077518909825997e-07, 6.822033968845176e-07, 6.580137235090433e-07, 6.350881811556519e-07, 6.133402044028458e-07, 5.926905050079867e-07, 5.730663554803783e-07, 5.54400957031298e-07, 5.366328507117046e-07, 5.197054373518029e-07, 5.03566507381592e-07, 4.881678302703918e-07, 4.73464828565362e-07, 4.5941620574474484e-07, 4.459837127379629e-07, 4.331318301797893e-07, 4.2082757867323295e-07, 4.0904027720500835e-07, 3.977413686184761e-07, 3.869042399795575e-07, 3.765040581527046e-07, 3.665176594447317e-07, 3.5692337230219806e-07, 3.477009340446813e-07, 3.388313792873632e-07, 3.302969231455677e-07, 3.2208090317009663e-07, 3.1416767121150713e-07, 3.065425270287747e-07, 2.991916517869342e-07, 2.9210205620966434e-07, 2.8526149453700356e-07, 2.786584408775994e-07, 2.7228202958973213e-07, 2.661220042110557e-07, 2.601686769354572e-07, 2.5441291007233247e-07, 2.4884605476227506e-07, 2.434599375433777e-07, 2.3824681072426301e-07, 2.3319935638088651e-07, 2.2831061619044135e-07, 2.2357400797368143e-07, 2.1898329161107455e-07, 2.1453252352365837e-07, 2.1021608442861606e-07, 2.0602861572349696e-07]\n"
     ]
    }
   ],
   "source": [
    "# Calculamos a integral verdadeira, criamos duas listas vazias para guardar os erros calculados para cada regra e definimos o intervalo de variação da função\n",
    "int_verdadeira = math.sin(math.pi/2) - math.sin(0)\n",
    "erros_ret = []\n",
    "erros_trap = []\n",
    "inicio = 0\n",
    "fim = math.pi/2\n",
    "# Para cada valor de N, geramos as listas com os dados, integramos pela regra dos retângulos, calculamos os erro, guardamos esses erros na lista erros_ret e imprimimos essa lista\n",
    "lista_N = range(10, 1010, 10)\n",
    "for N in lista_N:\n",
    "    intervalo = (fim - inicio)/(N - 1)\n",
    "    tempos = []\n",
    "    dados = []\n",
    "    for i in range(0, N):\n",
    "        t = inicio + i*intervalo\n",
    "        tempos.append(t)\n",
    "        dados.append(math.cos(t))\n",
    "    soma = 0 \n",
    "    for dado in dados:\n",
    "        soma = soma + dado\n",
    "    integral_ret = soma*intervalo\n",
    "    erro = abs(int_verdadeira - integral_ret)\n",
    "    erros_ret.append(erro)\n",
    "print(\"Erro dos Retângulos\", erros_ret)\n",
    "# Para cada valor de N, geramos as listas com os dados, integramos pela regra dos trapézios, calculamos os erro, guardamos esses erros na lista erros_trap e imprimimos essa lista    \n",
    "lista_N = range(10, 1010, 10)\n",
    "for N in lista_N:\n",
    "    intervalo = (fim - inicio)/(N - 1)\n",
    "    tempos = []\n",
    "    dados = []\n",
    "    for i in range(0, N):\n",
    "        t = inicio + i*intervalo\n",
    "        tempos.append(t)\n",
    "        dados.append(math.cos(t))    \n",
    "    soma2 = 0\n",
    "    for i in range(0, N - 1):\n",
    "        soma2 = soma2 + dados[i] + dados[i+1]\n",
    "    integral_trap = (soma2*intervalo)/2\n",
    "    erro2 = abs(int_verdadeira - integral_trap)\n",
    "    erros_trap.append(erro2)\n",
    "    \n",
    "print(\"Erro dos Trapézios\", erros_trap)\n",
    "\n",
    "        "
   ]
  },
  {
   "cell_type": "code",
   "execution_count": 22,
   "metadata": {
    "collapsed": false
   },
   "outputs": [
    {
     "data": {
      "image/png": "[encoded data removed]",
      "text/plain": [
       "<matplotlib.figure.Figure at 0x8bbaf28>"
      ]
     },
     "metadata": {},
     "output_type": "display_data"
    }
   ],
   "source": [
    "plt.figure()\n",
    "plt.plot(lista_N, erros_ret , \"-b\" , label = \"Retângulos\")\n",
    "plt.plot(lista_N , erros_trap , \"-r\" , label = \"Trapézios\")\n",
    "plt.title(\"Erro de Integração Numérica\")\n",
    "plt.xlabel(\"Número de Dados\")\n",
    "plt.yscale('log')\n",
    "plt.ylabel(\"Erro\")\n",
    "legend = plt.legend(loc = \"upper right\" , shadow = True , fontsize = \"x-large\")"
   ]
  },
  {
   "cell_type": "markdown",
   "metadata": {},
   "source": [
    "**Responda na célula abaixo**: Como o erro varia com `N` para os dois métodos? Aumentar o número de dados de 50 para 200 nos dá a mesma diminuição no erro que aumentar de 650 para 800? Sempre vale a pena utilizar mais dados (lembre-se que a escala é logarítmica)? "
   ]
  },
  {
   "cell_type": "markdown",
   "metadata": {},
   "source": [
    "O erro diminui logaritimicamente a medida que se aumenta o N. Não, porque essa diminuição é logarítmica. Não, porque como a escala é logarítmica a partir de um certo valor de N a diminuição do erro com o aumento de N é quase desprezível, mas para valores menores de N essa diminuição do erro é considerável."
   ]
  },
  {
   "cell_type": "markdown",
   "metadata": {},
   "source": [
    "### Resultado esperado\n",
    "\n",
    "O gráfico ao final deverá ser parecido com:\n",
    "\n",
    "![images/erro-por-ndados.png](images/erro-por-ndados.png)"
   ]
  },
  {
   "cell_type": "markdown",
   "metadata": {},
   "source": [
    "## Tarefa bônus: Probabilidades\n",
    "\n",
    "Vamos assumir que uma variável aleatória $x$ segue uma [distribuição normal](https://en.wikipedia.org/wiki/Normal_distribution) com média zero e desvio padrão $\\sigma$. Isso quer dizer que a [densidade de probabilidade](https://en.wikipedia.org/wiki/Probability_density_function) para $x$ é\n",
    "\n",
    "$$\n",
    "f(x) = \\frac{1}{\\sigma\\sqrt{2\\pi}} \\exp \\left( -\\frac{x^2}{2 \\sigma^2} \\right)\n",
    "$$\n",
    "\n",
    "A probabilidade de $x$ cair no intervalo $[a, b]$ é dada por ([refência](https://en.wikipedia.org/wiki/Probability_distribution#Continuous_probability_distribution)):\n",
    "\n",
    "$$\n",
    "P(a \\leq x \\leq b) = \\int\\limits_a^b f(x) dx\n",
    "$$\n",
    "\n",
    "Calcule na célula abaixo qual é a probabilidade de $x$ estar entre $[-\\sigma, +\\sigma]$ para $\\sigma = 5$."
   ]
  },
  {
   "cell_type": "code",
   "execution_count": null,
   "metadata": {
    "collapsed": true
   },
   "outputs": [],
   "source": []
  }
 ],
 "metadata": {
  "kernelspec": {
   "display_name": "Python 3",
   "language": "python",
   "name": "python3"
  },
  "language_info": {
   "codemirror_mode": {
    "name": "ipython",
    "version": 3
   },
   "file_extension": ".py",
   "mimetype": "text/x-python",
   "name": "python",
   "nbconvert_exporter": "python",
   "pygments_lexer": "ipython3",
   "version": "3.4.3"
  }
 },
 "nbformat": 4,
 "nbformat_minor": 0
}
